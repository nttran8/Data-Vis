{
  "nbformat": 4,
  "nbformat_minor": 0,
  "metadata": {
    "colab": {
      "name": "Data Visualization of US Stocks",
      "provenance": [],
      "include_colab_link": true
    },
    "kernelspec": {
      "name": "python3",
      "display_name": "Python 3"
    }
  },
  "cells": [
    {
      "cell_type": "markdown",
      "metadata": {
        "id": "view-in-github",
        "colab_type": "text"
      },
      "source": [
        "<a href=\"https://colab.research.google.com/github/nttran8/Data-Vis/blob/master/Data_Visualization_of_US_Stocks.ipynb\" target=\"_parent\"><img src=\"https://colab.research.google.com/assets/colab-badge.svg\" alt=\"Open In Colab\"/></a>"
      ]
    },
    {
      "cell_type": "code",
      "metadata": {
        "id": "j7YpiIAlbnpc",
        "colab_type": "code",
        "colab": {
          "base_uri": "https://localhost:8080/",
          "height": 34
        },
        "outputId": "7a08319b-16f9-4148-be14-c2176879fad8"
      },
      "source": [
        "import numpy as np #Numpy provides fast math function processing\n",
        "import pandas as pd #pandas is used for easy indexing and data collection tools\n",
        "import matplotlib as mpl #machine learning libraries\n",
        "import matplotlib.pyplot as plt\n",
        "%matplotlib inline"
      ],
      "execution_count": 4,
      "outputs": [
        {
          "output_type": "execute_result",
          "data": {
            "text/plain": [
              "array(['Date', 'Open', 'High', 'Low', 'Close', 'Volume'], dtype=object)"
            ]
          },
          "metadata": {
            "tags": []
          },
          "execution_count": 4
        }
      ]
    },
    {
      "cell_type": "code",
      "metadata": {
        "id": "FofqmF5cdpaO",
        "colab_type": "code",
        "colab": {}
      },
      "source": [
        "Jobs=pd.read_csv(\"https://raw.githubusercontent.com/nttran8/Data-Vis/master/BAC.csv\")"
      ],
      "execution_count": 0,
      "outputs": []
    },
    {
      "cell_type": "code",
      "metadata": {
        "id": "LlAnzbmIdvY6",
        "colab_type": "code",
        "colab": {
          "base_uri": "https://localhost:8080/",
          "height": 204
        },
        "outputId": "10023c4e-b068-42b5-96a0-1dce42edef0e"
      },
      "source": [
        "Jobs.head()"
      ],
      "execution_count": 8,
      "outputs": [
        {
          "output_type": "execute_result",
          "data": {
            "text/html": [
              "<div>\n",
              "<style scoped>\n",
              "    .dataframe tbody tr th:only-of-type {\n",
              "        vertical-align: middle;\n",
              "    }\n",
              "\n",
              "    .dataframe tbody tr th {\n",
              "        vertical-align: top;\n",
              "    }\n",
              "\n",
              "    .dataframe thead th {\n",
              "        text-align: right;\n",
              "    }\n",
              "</style>\n",
              "<table border=\"1\" class=\"dataframe\">\n",
              "  <thead>\n",
              "    <tr style=\"text-align: right;\">\n",
              "      <th></th>\n",
              "      <th>Date</th>\n",
              "      <th>Open</th>\n",
              "      <th>High</th>\n",
              "      <th>Low</th>\n",
              "      <th>Close</th>\n",
              "      <th>Volume</th>\n",
              "    </tr>\n",
              "  </thead>\n",
              "  <tbody>\n",
              "    <tr>\n",
              "      <th>0</th>\n",
              "      <td>2006-01-03</td>\n",
              "      <td>46.92</td>\n",
              "      <td>47.18</td>\n",
              "      <td>46.15</td>\n",
              "      <td>47.08</td>\n",
              "      <td>16296700</td>\n",
              "    </tr>\n",
              "    <tr>\n",
              "      <th>1</th>\n",
              "      <td>2006-01-04</td>\n",
              "      <td>47.00</td>\n",
              "      <td>47.24</td>\n",
              "      <td>46.45</td>\n",
              "      <td>46.58</td>\n",
              "      <td>17757900</td>\n",
              "    </tr>\n",
              "    <tr>\n",
              "      <th>2</th>\n",
              "      <td>2006-01-05</td>\n",
              "      <td>46.58</td>\n",
              "      <td>46.83</td>\n",
              "      <td>46.32</td>\n",
              "      <td>46.64</td>\n",
              "      <td>14970900</td>\n",
              "    </tr>\n",
              "    <tr>\n",
              "      <th>3</th>\n",
              "      <td>2006-01-06</td>\n",
              "      <td>46.80</td>\n",
              "      <td>46.91</td>\n",
              "      <td>46.35</td>\n",
              "      <td>46.57</td>\n",
              "      <td>12599800</td>\n",
              "    </tr>\n",
              "    <tr>\n",
              "      <th>4</th>\n",
              "      <td>2006-01-09</td>\n",
              "      <td>46.72</td>\n",
              "      <td>46.97</td>\n",
              "      <td>46.36</td>\n",
              "      <td>46.60</td>\n",
              "      <td>15620000</td>\n",
              "    </tr>\n",
              "  </tbody>\n",
              "</table>\n",
              "</div>"
            ],
            "text/plain": [
              "         Date   Open   High    Low  Close    Volume\n",
              "0  2006-01-03  46.92  47.18  46.15  47.08  16296700\n",
              "1  2006-01-04  47.00  47.24  46.45  46.58  17757900\n",
              "2  2006-01-05  46.58  46.83  46.32  46.64  14970900\n",
              "3  2006-01-06  46.80  46.91  46.35  46.57  12599800\n",
              "4  2006-01-09  46.72  46.97  46.36  46.60  15620000"
            ]
          },
          "metadata": {
            "tags": []
          },
          "execution_count": 8
        }
      ]
    },
    {
      "cell_type": "code",
      "metadata": {
        "id": "XuPTup97dw_Z",
        "colab_type": "code",
        "colab": {
          "base_uri": "https://localhost:8080/",
          "height": 34
        },
        "outputId": "9e14c1f2-43a9-4258-f14c-e63eb2606cfa"
      },
      "source": [
        "#Gives a list of columns\n",
        "Jobs.columns.values"
      ],
      "execution_count": 9,
      "outputs": [
        {
          "output_type": "execute_result",
          "data": {
            "text/plain": [
              "array(['Date', 'Open', 'High', 'Low', 'Close', 'Volume'], dtype=object)"
            ]
          },
          "metadata": {
            "tags": []
          },
          "execution_count": 9
        }
      ]
    },
    {
      "cell_type": "code",
      "metadata": {
        "id": "g8t-Lhmqd5va",
        "colab_type": "code",
        "colab": {}
      },
      "source": [
        ""
      ],
      "execution_count": 0,
      "outputs": []
    },
    {
      "cell_type": "code",
      "metadata": {
        "id": "jCH89oicdyOB",
        "colab_type": "code",
        "colab": {
          "base_uri": "https://localhost:8080/",
          "height": 34
        },
        "outputId": "dcc02f47-747c-46a0-cbce-e12815f24a95"
      },
      "source": [
        "Jobs.shape"
      ],
      "execution_count": 10,
      "outputs": [
        {
          "output_type": "execute_result",
          "data": {
            "text/plain": [
              "(2517, 6)"
            ]
          },
          "metadata": {
            "tags": []
          },
          "execution_count": 10
        }
      ]
    },
    {
      "cell_type": "code",
      "metadata": {
        "id": "pHPDxgJsdzr-",
        "colab_type": "code",
        "colab": {
          "base_uri": "https://localhost:8080/",
          "height": 419
        },
        "outputId": "6bb48cd0-cf1f-4f5d-c4ac-304dfdbf4c3f"
      },
      "source": [
        "Jobs"
      ],
      "execution_count": 11,
      "outputs": [
        {
          "output_type": "execute_result",
          "data": {
            "text/html": [
              "<div>\n",
              "<style scoped>\n",
              "    .dataframe tbody tr th:only-of-type {\n",
              "        vertical-align: middle;\n",
              "    }\n",
              "\n",
              "    .dataframe tbody tr th {\n",
              "        vertical-align: top;\n",
              "    }\n",
              "\n",
              "    .dataframe thead th {\n",
              "        text-align: right;\n",
              "    }\n",
              "</style>\n",
              "<table border=\"1\" class=\"dataframe\">\n",
              "  <thead>\n",
              "    <tr style=\"text-align: right;\">\n",
              "      <th></th>\n",
              "      <th>Date</th>\n",
              "      <th>Open</th>\n",
              "      <th>High</th>\n",
              "      <th>Low</th>\n",
              "      <th>Close</th>\n",
              "      <th>Volume</th>\n",
              "    </tr>\n",
              "  </thead>\n",
              "  <tbody>\n",
              "    <tr>\n",
              "      <th>0</th>\n",
              "      <td>2006-01-03</td>\n",
              "      <td>46.92</td>\n",
              "      <td>47.18</td>\n",
              "      <td>46.15</td>\n",
              "      <td>47.08</td>\n",
              "      <td>16296700</td>\n",
              "    </tr>\n",
              "    <tr>\n",
              "      <th>1</th>\n",
              "      <td>2006-01-04</td>\n",
              "      <td>47.00</td>\n",
              "      <td>47.24</td>\n",
              "      <td>46.45</td>\n",
              "      <td>46.58</td>\n",
              "      <td>17757900</td>\n",
              "    </tr>\n",
              "    <tr>\n",
              "      <th>2</th>\n",
              "      <td>2006-01-05</td>\n",
              "      <td>46.58</td>\n",
              "      <td>46.83</td>\n",
              "      <td>46.32</td>\n",
              "      <td>46.64</td>\n",
              "      <td>14970900</td>\n",
              "    </tr>\n",
              "    <tr>\n",
              "      <th>3</th>\n",
              "      <td>2006-01-06</td>\n",
              "      <td>46.80</td>\n",
              "      <td>46.91</td>\n",
              "      <td>46.35</td>\n",
              "      <td>46.57</td>\n",
              "      <td>12599800</td>\n",
              "    </tr>\n",
              "    <tr>\n",
              "      <th>4</th>\n",
              "      <td>2006-01-09</td>\n",
              "      <td>46.72</td>\n",
              "      <td>46.97</td>\n",
              "      <td>46.36</td>\n",
              "      <td>46.60</td>\n",
              "      <td>15620000</td>\n",
              "    </tr>\n",
              "    <tr>\n",
              "      <th>...</th>\n",
              "      <td>...</td>\n",
              "      <td>...</td>\n",
              "      <td>...</td>\n",
              "      <td>...</td>\n",
              "      <td>...</td>\n",
              "      <td>...</td>\n",
              "    </tr>\n",
              "    <tr>\n",
              "      <th>2512</th>\n",
              "      <td>2015-12-24</td>\n",
              "      <td>17.32</td>\n",
              "      <td>17.38</td>\n",
              "      <td>17.22</td>\n",
              "      <td>17.27</td>\n",
              "      <td>29373415</td>\n",
              "    </tr>\n",
              "    <tr>\n",
              "      <th>2513</th>\n",
              "      <td>2015-12-28</td>\n",
              "      <td>17.22</td>\n",
              "      <td>17.23</td>\n",
              "      <td>16.98</td>\n",
              "      <td>17.13</td>\n",
              "      <td>41777497</td>\n",
              "    </tr>\n",
              "    <tr>\n",
              "      <th>2514</th>\n",
              "      <td>2015-12-29</td>\n",
              "      <td>17.25</td>\n",
              "      <td>17.35</td>\n",
              "      <td>17.16</td>\n",
              "      <td>17.28</td>\n",
              "      <td>45670376</td>\n",
              "    </tr>\n",
              "    <tr>\n",
              "      <th>2515</th>\n",
              "      <td>2015-12-30</td>\n",
              "      <td>17.20</td>\n",
              "      <td>17.24</td>\n",
              "      <td>17.04</td>\n",
              "      <td>17.05</td>\n",
              "      <td>35066378</td>\n",
              "    </tr>\n",
              "    <tr>\n",
              "      <th>2516</th>\n",
              "      <td>2015-12-31</td>\n",
              "      <td>17.01</td>\n",
              "      <td>17.07</td>\n",
              "      <td>16.83</td>\n",
              "      <td>16.83</td>\n",
              "      <td>47152968</td>\n",
              "    </tr>\n",
              "  </tbody>\n",
              "</table>\n",
              "<p>2517 rows × 6 columns</p>\n",
              "</div>"
            ],
            "text/plain": [
              "            Date   Open   High    Low  Close    Volume\n",
              "0     2006-01-03  46.92  47.18  46.15  47.08  16296700\n",
              "1     2006-01-04  47.00  47.24  46.45  46.58  17757900\n",
              "2     2006-01-05  46.58  46.83  46.32  46.64  14970900\n",
              "3     2006-01-06  46.80  46.91  46.35  46.57  12599800\n",
              "4     2006-01-09  46.72  46.97  46.36  46.60  15620000\n",
              "...          ...    ...    ...    ...    ...       ...\n",
              "2512  2015-12-24  17.32  17.38  17.22  17.27  29373415\n",
              "2513  2015-12-28  17.22  17.23  16.98  17.13  41777497\n",
              "2514  2015-12-29  17.25  17.35  17.16  17.28  45670376\n",
              "2515  2015-12-30  17.20  17.24  17.04  17.05  35066378\n",
              "2516  2015-12-31  17.01  17.07  16.83  16.83  47152968\n",
              "\n",
              "[2517 rows x 6 columns]"
            ]
          },
          "metadata": {
            "tags": []
          },
          "execution_count": 11
        }
      ]
    },
    {
      "cell_type": "code",
      "metadata": {
        "id": "ik1m62j-d0a7",
        "colab_type": "code",
        "colab": {
          "base_uri": "https://localhost:8080/",
          "height": 34
        },
        "outputId": "12971eb5-53c8-4079-dc56-82cc57783552"
      },
      "source": [
        "Jobs.plot"
      ],
      "execution_count": 14,
      "outputs": [
        {
          "output_type": "execute_result",
          "data": {
            "text/plain": [
              "<pandas.plotting._core.PlotAccessor object at 0x7f5d95c2e6a0>"
            ]
          },
          "metadata": {
            "tags": []
          },
          "execution_count": 14
        }
      ]
    },
    {
      "cell_type": "code",
      "metadata": {
        "id": "KkOeyNEGeR50",
        "colab_type": "code",
        "colab": {
          "base_uri": "https://localhost:8080/",
          "height": 312
        },
        "outputId": "082661b1-93bc-480c-f988-566b02b34aa5"
      },
      "source": [
        "#Rename Dataframe to not overwrite original\n",
        "#Execute Code\n",
        "#Pick 2 columns\n",
        "Jobs2 =Jobs.plot.scatter(x='Open',y='Volume')\n",
        "\n",
        "plt.title('Scatter Plot')\n",
        "plt.xlabel('Opening Price')\n",
        "plt.ylabel('Volume of shares')\n",
        "#Change the size of the graph\n",
        "plt.rcParams['figure.figsize']={30,4}\n",
        "plt.show"
      ],
      "execution_count": 31,
      "outputs": [
        {
          "output_type": "execute_result",
          "data": {
            "text/plain": [
              "<function matplotlib.pyplot.show>"
            ]
          },
          "metadata": {
            "tags": []
          },
          "execution_count": 31
        },
        {
          "output_type": "display_data",
          "data": {
            "image/png": "[encoded data removed]",
            "text/plain": [
              "<Figure size 1440x288 with 1 Axes>"
            ]
          },
          "metadata": {
            "tags": []
          }
        }
      ]
    },
    {
      "cell_type": "code",
      "metadata": {
        "id": "vX6bzBfOfs3H",
        "colab_type": "code",
        "colab": {}
      },
      "source": [
        "#A large concentration of lower opening prices stocks are purchased\n",
        "#We also see about 20 stocks with low opening prices are puchased with over 7 shares"
      ],
      "execution_count": 0,
      "outputs": []
    }
  ]
}